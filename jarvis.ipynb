{
 "metadata": {
  "language_info": {
   "codemirror_mode": {
    "name": "ipython",
    "version": 3
   },
   "file_extension": ".py",
   "mimetype": "text/x-python",
   "name": "python",
   "nbconvert_exporter": "python",
   "pygments_lexer": "ipython3",
   "version": 3
  },
  "orig_nbformat": 2,
  "kernelspec": {
   "name": "python_defaultSpec_1596956578290",
   "display_name": "Python 3.8.3 64-bit"
  }
 },
 "nbformat": 4,
 "nbformat_minor": 2,
 "cells": [
  {
   "cell_type": "code",
   "execution_count": 1,
   "metadata": {},
   "outputs": [],
   "source": [
    "import datetime\n",
    "import pyttsx3\n",
    "import wikipedia\n",
    "import os\n",
    "import speech_recognition as sr\n",
    "from datetime import date,datetime\n",
    "import smtplib\n",
    "import webbrowser"
   ]
  },
  {
   "cell_type": "code",
   "execution_count": 12,
   "metadata": {
    "tags": []
   },
   "outputs": [
    {
     "output_type": "stream",
     "name": "stdout",
     "text": "hi i am jarvis\n"
    }
   ],
   "source": [
    "engine=pyttsx3.init(\"sapi5\")\n",
    "voices=engine.getProperty(\"voices\")\n",
    "engine.setProperty(\"voices\",voices[0].id)\n",
    "def speak(text):\n",
    "    engine.say(text)\n",
    "    engine.runAndWait()\n",
    "print(\"hi i am jarvis\")\n",
    "speak(\"hi i am jarvis\")"
   ]
  },
  {
   "cell_type": "code",
   "execution_count": 3,
   "metadata": {
    "tags": []
   },
   "outputs": [
    {
     "output_type": "stream",
     "name": "stdout",
     "text": "2020-08-09\n2020-08-09 12:33:56.808069\n"
    }
   ],
   "source": [
    "date=date.today()\n",
    "print(date)\n",
    "speak(\"today date is\")\n",
    "speak(date)\n",
    "time=datetime.now()\n",
    "print(time)\n",
    "h=str(time.hour)\n",
    "m=str(time.minute)\n",
    "speak(h+\" hours and \"+m+\"minutes\")\n",
    "h=int(h)\n",
    "if(0<h<12):\n",
    "    speak(\"good moring sir\")\n",
    "if(12<h<16):\n",
    "    speak(\"good afternoon sir\")\n",
    "if(16<h<18):\n",
    "    speak(\"good evening sir\")\n",
    "if(18<h<24):\n",
    "    speak(\"good night sir\")"
   ]
  },
  {
   "cell_type": "code",
   "execution_count": 22,
   "metadata": {
    "tags": []
   },
   "outputs": [
    {
     "output_type": "stream",
     "name": "stdout",
     "text": "listing....\nrecognizing....\nwhat is Jarvis according to Wikipedia\nwhat is Jarvis according to Wikipedia\n"
    }
   ],
   "source": [
    "def input():\n",
    "    r=sr.Recognizer()\n",
    "    #r.listen(source,timeout=5)\n",
    "    with sr.Microphone() as source:\n",
    "        print(\"listing....\")\n",
    "        #r.listen(source,timeout=0)\n",
    "        audio_=r.listen(source,phrase_time_limit=10)\n",
    "        #r.listen(source,timeout=0)\n",
    "    try:\n",
    "        print(\"recognizing....\")\n",
    "        query=r.recognize_google(audio_,language=\"en-in\")\n",
    "        speak(\"recognised\")\n",
    "        print(query)\n",
    "        return query\n",
    "    except:\n",
    "        print(\"sorry something wrong please say again\")\n",
    "        #speak(\"sorry something wrong please say again\")\n",
    "query=input()\n",
    "print(query)\n",
    "if \"wikipedia\" in query.lower():\n",
    "    speak(\"searching wikipedia...\")\n",
    "    query=query.replace(\"wikipedia\",\"\")\n",
    "    results=wikipedia.summary(query,sentences=2)\n",
    "    speak(results)\n",
    "else:\n",
    "    print(\"i\")"
   ]
  },
  {
   "cell_type": "code",
   "execution_count": null,
   "metadata": {},
   "outputs": [],
   "source": []
  }
 ]
}